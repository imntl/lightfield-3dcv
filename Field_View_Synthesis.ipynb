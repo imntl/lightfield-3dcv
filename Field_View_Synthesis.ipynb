{
 "cells": [
  {
   "cell_type": "code",
   "execution_count": 2,
   "metadata": {},
   "outputs": [
    {
     "name": "stdout",
     "output_type": "stream",
     "text": [
      "Train Epoch: 1 [0/360 (0%)]\tLoss: 0.044091\n",
      "Train Epoch: 1 [100/360 (28%)]\tLoss: 0.037294\n",
      "Train Epoch: 1 [200/360 (56%)]\tLoss: 0.045891\n",
      "Train Epoch: 1 [300/360 (83%)]\tLoss: 0.051220\n",
      "====> Epoch: 1 Average loss: 0.042796\n",
      "====> Test set loss: 0.058523\n",
      "0.042795994215541415 0.05852300777203507\n"
     ]
    },
    {
     "data": {
      "image/png": "[encoded data removed]",
      "text/plain": [
       "<Figure size 432x288 with 1 Axes>"
      ]
     },
     "metadata": {
      "needs_background": "light"
     },
     "output_type": "display_data"
    },
    {
     "data": {
      "image/png": "[encoded data removed]",
      "text/plain": [
       "<Figure size 432x288 with 1 Axes>"
      ]
     },
     "metadata": {
      "needs_background": "light"
     },
     "output_type": "display_data"
    }
   ],
   "source": [
    "import torch\n",
    "from torch.utils.data import DataLoader\n",
    "from torchvision import datasets, transforms\n",
    "from models.data_loading import LightFieldDataset\n",
    "from models.VAE import VAE\n",
    "from models.Trainer import Trainer\n",
    "from models.transformations import Brightness, Color_jitter, Contrast, Noice, RandomCrop \n",
    "import os\n",
    "\n",
    "# new directory\n",
    "res_folder = 'Ergebnisse'\n",
    "os.makedirs(res_folder, exist_ok=True)\n",
    "state_path = os.path.join(res_folder, 'model.pth')\n",
    "\n",
    "# set parameters\n",
    "in_params = {\"batch_size\": 5,\n",
    "        \"epochs\": 1,\n",
    "        \"no_cuda\": False,\n",
    "        \"seed\": 1,\n",
    "        \"print_every\": 20,\n",
    "        \"input_size\": 64,\n",
    "        \"path\": res_folder,\n",
    "        \"in_channels\": 9*3\n",
    "        }\n",
    "in_params[\"cuda\"] = not in_params[\"no_cuda\"] and torch.cuda.is_available()\n",
    "torch.manual_seed(in_params[\"seed\"])\n",
    "\n",
    "device = torch.device(\"cuda\" if in_params[\"cuda\"] else \"cpu\")\n",
    "\n",
    "kwargs = {'num_workers': 4, 'pin_memory': True} if in_params[\"cuda\"] else {}\n",
    "\n",
    "\n",
    "# transformations of input images before feeding into nn\n",
    "transformation_list = [Brightness(0.4), Color_jitter(0.6), Contrast(0.7), Noise(0.8)]\n",
    "transformations = transforms.Compose([RandomCrop(in_params['input_size']),\n",
    "                                     transforms.RandomChoice(transformation_list)])\n",
    "\n",
    "# load data into DataLoader\n",
    "train_set = LightFieldDataset(sort=['stratified','additional'], \n",
    "                              data_kind = 'stack', \n",
    "                              root_dir = 'full_data', \n",
    "                              transform = transformations)\n",
    "test_set = LightFieldDataset(sort=['test'], \n",
    "                              data_kind = 'stack', \n",
    "                              root_dir = 'full_data', \n",
    "                              transform = transformations)\n",
    "train_loader = DataLoader(train_set,\n",
    "                           batch_size=in_params[\"batch_size\"], \n",
    "                           shuffle=True,\n",
    "                           drop_last=True,\n",
    "                           **kwargs\n",
    "                           )\n",
    "\n",
    "test_loader = DataLoader(test_set,\n",
    "                          batch_size=in_params[\"batch_size\"], \n",
    "                          shuffle=True,\n",
    "                          drop_last=True,\n",
    "                          **kwargs\n",
    "                          )\n",
    "\n",
    "# Create Model\n",
    "model = VAE(in_channels=in_params['in_channels'],\n",
    "           in_size=in_params[\"input_size\"],\n",
    "           hidden_dims=[2])\n",
    "\n",
    "\n",
    "# Build the optimizer:\n",
    "params = model.parameters()\n",
    "learning_rate = 1e-4\n",
    "optimizer = torch.optim.AdamW(params, lr=learning_rate)\n",
    "\n",
    "\n",
    "# Build the trainer with the Soresen-Dice loss you implemented:\n",
    "trainer = Trainer(model, optimizer, model.loss_function,\n",
    "        train_loader, test_loader, torch.float32, device,**in_params )\n",
    "\n",
    "\n",
    "\n",
    "# Start training:\n",
    "path1 = os.path.join(res_folder, 'loss_train')\n",
    "path2 = os.path.join(res_folder, 'loss_test')\n",
    "trainer.train_and_test(in_params[\"epochs\"], path1, path2)\n",
    "\n",
    "# Save trained model\n",
    "torch.save({'model': model.state_dict(),\n",
    "            'optimizer': optimizer.state_dict(),\n",
    "            'epoch': in_params[\"epochs\"]}, state_path)\n"
   ]
  },
  {
   "cell_type": "code",
   "execution_count": null,
   "metadata": {},
   "outputs": [],
   "source": [
    "# function for view synthesis\n",
    "def combine(in1,in2,w,model):\n",
    "  mu1, log_var1 = model.encode(in1)\n",
    "  mu2, log_var2 = model.encode(in2)\n",
    "  mu = w*mu1+(1-w)*mu2\n",
    "  log_var = w*log_var1 + (1-w)*log_var2\n",
    "  z = model.reparameterize(mu,log_var)\n",
    "  return model.decode(z).detach()\n",
    "\n",
    "\n",
    "def combine2(in1,in2,w,model):\n",
    "  mu1, log_var1 = model.encode(in1)\n",
    "  mu2, log_var2 = model.encode(in2)\n",
    "  z1 = model.reparameterize(mu1,log_var1)\n",
    "  z2 = model.reparameterize(mu2,log_var2)\n",
    "  return model.decode(w*z1+(1-w)*z2).detach()"
   ]
  },
  {
   "cell_type": "code",
   "execution_count": null,
   "metadata": {},
   "outputs": [],
   "source": []
  }
 ],
 "metadata": {
  "kernelspec": {
   "display_name": "Python 3",
   "language": "python",
   "name": "python3"
  },
  "language_info": {
   "codemirror_mode": {
    "name": "ipython",
    "version": 3
   },
   "file_extension": ".py",
   "mimetype": "text/x-python",
   "name": "python",
   "nbconvert_exporter": "python",
   "pygments_lexer": "ipython3",
   "version": "3.7.6"
  }
 },
 "nbformat": 4,
 "nbformat_minor": 4
}
